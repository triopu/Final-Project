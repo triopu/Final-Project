{
 "cells": [
  {
   "cell_type": "markdown",
   "metadata": {},
   "source": [
    "# Condition Monitoring of Hydraulic Systems\n",
    "#### Trio Pambudi Utomo - FGA_DTS\n",
    "Source: [UCI Machine Learning](https://archive.ics.uci.edu/ml/datasets/Condition+monitoring+of+hydraulic+systems)"
   ]
  },
  {
   "cell_type": "markdown",
   "metadata": {},
   "source": [
    "### Deskripsi Dataset\n",
    "\n",
    "Set data secara eksperimental diperoleh dengan rig uji hidrolik. Rig uji ini terdiri dari kerja primer dan sirkuit filtrasi pendingin sekunder yang dihubungkan melalui tangki oli. Sistem secara berulang mengulangi siklus beban konstan (durasi 60 detik) dan mengukur nilai proses seperti tekanan, aliran volume dan suhu, sementara kondisi empat komponen hidrolik (pendingin, katup, pompa dan akumulator) bervariasi secara kuantitatif.\n",
    "\n",
    "<img src=\"https://hydraulic-final.s3.amazonaws.com/Figure.png\" width=\"640\" height=\"480\">\n",
    "<p style=\"text-align:center\">Gambar 1. Hydraulic system for training data collection: (a) working circuit with main pump MP1 with switchable orifice V9, switchable accumulators A1-A4 with different precharge pressures and variable load V11, (b) cooling and filtration circuit with cooler C1.</p>\n",
    "\n",
    "Set data berisi data sensor proses mentah (mis. Tanpa ekstraksi fitur) yang terstruktur sebagai matriks dengan baris yang mewakili siklus dan kolom mewakili poin data dalam suatu siklus. Sensor yang digunakan adalah:\n",
    "\n",
    "|Sensor|Physical quantity|Unit|Sampling rate||Sensor|Physical quantity|Unit|Sampling rate|\n",
    "| :--- | :--- | :--- | :--- | :--- | :--- | :--- | :--- | :--- |\n",
    "|PS1|Pressure|bar|100 Hz|   |TS1|Temperature|°C|1 Hz|\n",
    "|PS2|Pressure|bar|100 Hz|   |TS2|Temperature|°C|1 Hz|\n",
    "|PS3|Pressure|bar|100 Hz|   |TS3|Temperature|°C|1 Hz|\n",
    "|PS4|Pressure|bar|100 Hz|   |TS4|Temperature|°C|1 Hz|\n",
    "|PS5|Pressure|bar|100 Hz|   |VS1|Vibration|mm/s|1 Hz|\n",
    "|PS6|Pressure|bar|100 Hz|   |CE|Cooling efficiency (virtual)|%|1 Hz|\n",
    "|EPS1|Motor power|W|100 Hz|    |CP|Cooling power (virtual)|kW|1 Hz|\n",
    "|FS1|Volume flow|l/min|10 Hz|     |SE|Efficiency factor|%|1 Hz|\n",
    "|FS2|Volume flow|l/min|10 Hz|     |||||\n",
    "\n",
    "Nilai kondisi target adalah siklus-beranotasi di ‘profile.txt‘. Seperti sebelumnya, nomor baris mewakili nomor siklus. Kolomnya adalah:\n",
    "\n",
    "|Cooler condition (%)|Valve condition (%)|Internal pump leakage|Hydraulic accumulator (bar)|Stable flag|\n",
    "|:---|:---|:---|:---|:---|\n",
    "|3: close to total failure|100: optimal switching behavior|0: no leakage|130: optimal pressure|0: conditions were stable|\n",
    "|20: reduced effifiency|90: small lag|1: weak leakage|115: slightly reduced pressure|1: static conditions might not have been reached yet|\n",
    "|100: full efficiency|80: severe lag|2: severe leakage|100: severely reduced pressure||\n",
    "||73: close to total failure||90: close to total failure||\n",
    "\n",
    "<h4 align=\"center\">Oke, setelah mengetahui semua informasinya, kita kerjakan projeknya!!!</h4>\n",
    "\n",
    "<img src=\"https://media.giphy.com/media/UcK7JalnjCz0k/giphy.gif\" width=\"480\" height=\"360\">\n"
   ]
  },
  {
   "cell_type": "markdown",
   "metadata": {},
   "source": [
    "## Regression Model"
   ]
  },
  {
   "cell_type": "markdown",
   "metadata": {},
   "source": [
    "### 1. Mengumpulkan data\n",
    "Seperti yang telah dijelaskan diatas, data terdiri dari 18 jenis pembacaan sensor. Sehingga,\n",
    "#### 1a. Data\n",
    "Data pembacaan sensor dalam set data ini adalah, tekanan (PS1, PS2, PS3, PS4), motor power (EPS1), volume aliran (FS1, FS2), suhu (TS1, TS2, TS3, TS4), getaran (VS1), koefisien pendinginan (CE), power pendinginan (CP), dan faktor efisiensi (SE)"
   ]
  },
  {
   "cell_type": "code",
   "execution_count": 1,
   "metadata": {},
   "outputs": [
    {
     "name": "stdout",
     "output_type": "stream",
     "text": [
      "!!!Membaca data!!!\n",
      "[==================================================] 100%"
     ]
    }
   ],
   "source": [
    "import pandas as pd\n",
    "import sys\n",
    "# Menyembunyikan Warning\n",
    "import warnings\n",
    "warnings.filterwarnings('ignore')\n",
    "\n",
    "# Data yang digunakan adalah semua data diatas\n",
    "# List semua sensor (feature)\n",
    "\n",
    "list_feature = [\"PS1\",\"PS2\",\"PS3\",\"PS4\",\"PS5\",\"PS6\",\"EPS1\",\n",
    "                \"FS1\",\"FS2\",\"TS1\",\"TS2\",\"TS3\",\"TS4\",\"VS1\",\n",
    "                \"CP\",\"CE\",\"SE\"]\n",
    "\n",
    "# Membuat dataframe dari sensor-sensor tersebut\n",
    "features = pd.DataFrame()\n",
    "print(\"!!!Membaca data!!!\")\n",
    "for i,feature in enumerate(list_feature): \n",
    "    \n",
    "    # Menampilkan persentase proses\n",
    "    sys.stdout.write(\"\\r[%-50s] %d%%\" % ('='*int(((i+1)/len(list_feature))*50), ((i+1)/len(list_feature))*100))\n",
    "    sys.stdout.flush()\n",
    "    \n",
    "    # Membaca data\n",
    "    # path = \"https://hydraulic-final.s3.amazonaws.com/\" # Jika dari S3, aktifkan\n",
    "    path = \"/home/trio_pu/Hydraulic/\" # Jika dari hdd, aktifkan\n",
    "    data = pd.read_csv(path+feature+\".txt\", delimiter = \"\\t\", header = None)\n",
    "    \n",
    "    # Setiap siklus direrata untuk mendapatkan 1 nilai pada 1 baris dalam sensor-sensor tersebut\n",
    "    # Kemuduian disimpan dalam setiap label\n",
    "    features[feature] = data.mean(axis = 1)"
   ]
  },
  {
   "cell_type": "code",
   "execution_count": 2,
   "metadata": {},
   "outputs": [
    {
     "data": {
      "text/html": [
       "<div>\n",
       "<style scoped>\n",
       "    .dataframe tbody tr th:only-of-type {\n",
       "        vertical-align: middle;\n",
       "    }\n",
       "\n",
       "    .dataframe tbody tr th {\n",
       "        vertical-align: top;\n",
       "    }\n",
       "\n",
       "    .dataframe thead th {\n",
       "        text-align: right;\n",
       "    }\n",
       "</style>\n",
       "<table border=\"1\" class=\"dataframe\">\n",
       "  <thead>\n",
       "    <tr style=\"text-align: right;\">\n",
       "      <th></th>\n",
       "      <th>PS1</th>\n",
       "      <th>PS2</th>\n",
       "      <th>PS3</th>\n",
       "      <th>PS4</th>\n",
       "      <th>PS5</th>\n",
       "      <th>PS6</th>\n",
       "      <th>EPS1</th>\n",
       "      <th>FS1</th>\n",
       "      <th>FS2</th>\n",
       "      <th>TS1</th>\n",
       "      <th>TS2</th>\n",
       "      <th>TS3</th>\n",
       "      <th>TS4</th>\n",
       "      <th>VS1</th>\n",
       "      <th>CP</th>\n",
       "      <th>CE</th>\n",
       "      <th>SE</th>\n",
       "    </tr>\n",
       "  </thead>\n",
       "  <tbody>\n",
       "    <tr>\n",
       "      <th>0</th>\n",
       "      <td>160.673492</td>\n",
       "      <td>109.466914</td>\n",
       "      <td>1.991475</td>\n",
       "      <td>0.0</td>\n",
       "      <td>9.842169</td>\n",
       "      <td>9.728098</td>\n",
       "      <td>2538.929167</td>\n",
       "      <td>6.709815</td>\n",
       "      <td>10.304592</td>\n",
       "      <td>35.621983</td>\n",
       "      <td>40.978767</td>\n",
       "      <td>38.471017</td>\n",
       "      <td>31.745250</td>\n",
       "      <td>0.576950</td>\n",
       "      <td>1.862750</td>\n",
       "      <td>39.601350</td>\n",
       "      <td>59.157183</td>\n",
       "    </tr>\n",
       "    <tr>\n",
       "      <th>1</th>\n",
       "      <td>160.603320</td>\n",
       "      <td>109.354890</td>\n",
       "      <td>1.976234</td>\n",
       "      <td>0.0</td>\n",
       "      <td>9.635142</td>\n",
       "      <td>9.529488</td>\n",
       "      <td>2531.498900</td>\n",
       "      <td>6.715315</td>\n",
       "      <td>10.403098</td>\n",
       "      <td>36.676967</td>\n",
       "      <td>41.532767</td>\n",
       "      <td>38.978967</td>\n",
       "      <td>34.493867</td>\n",
       "      <td>0.565850</td>\n",
       "      <td>1.255550</td>\n",
       "      <td>25.786433</td>\n",
       "      <td>59.335617</td>\n",
       "    </tr>\n",
       "    <tr>\n",
       "      <th>2</th>\n",
       "      <td>160.347720</td>\n",
       "      <td>109.158845</td>\n",
       "      <td>1.972224</td>\n",
       "      <td>0.0</td>\n",
       "      <td>9.530548</td>\n",
       "      <td>9.427949</td>\n",
       "      <td>2519.928000</td>\n",
       "      <td>6.718522</td>\n",
       "      <td>10.366250</td>\n",
       "      <td>37.880800</td>\n",
       "      <td>42.442450</td>\n",
       "      <td>39.631950</td>\n",
       "      <td>35.646150</td>\n",
       "      <td>0.576533</td>\n",
       "      <td>1.113217</td>\n",
       "      <td>22.218233</td>\n",
       "      <td>59.543150</td>\n",
       "    </tr>\n",
       "    <tr>\n",
       "      <th>3</th>\n",
       "      <td>160.188088</td>\n",
       "      <td>109.064807</td>\n",
       "      <td>1.946575</td>\n",
       "      <td>0.0</td>\n",
       "      <td>9.438827</td>\n",
       "      <td>9.337430</td>\n",
       "      <td>2511.541633</td>\n",
       "      <td>6.720565</td>\n",
       "      <td>10.302678</td>\n",
       "      <td>38.879050</td>\n",
       "      <td>43.403983</td>\n",
       "      <td>40.403383</td>\n",
       "      <td>36.579467</td>\n",
       "      <td>0.569267</td>\n",
       "      <td>1.062150</td>\n",
       "      <td>20.459817</td>\n",
       "      <td>59.794900</td>\n",
       "    </tr>\n",
       "    <tr>\n",
       "      <th>4</th>\n",
       "      <td>160.000472</td>\n",
       "      <td>108.931434</td>\n",
       "      <td>1.922707</td>\n",
       "      <td>0.0</td>\n",
       "      <td>9.358762</td>\n",
       "      <td>9.260636</td>\n",
       "      <td>2503.449500</td>\n",
       "      <td>6.690308</td>\n",
       "      <td>10.237750</td>\n",
       "      <td>39.803917</td>\n",
       "      <td>44.332750</td>\n",
       "      <td>41.310550</td>\n",
       "      <td>37.427900</td>\n",
       "      <td>0.577367</td>\n",
       "      <td>1.070467</td>\n",
       "      <td>19.787017</td>\n",
       "      <td>59.455267</td>\n",
       "    </tr>\n",
       "  </tbody>\n",
       "</table>\n",
       "</div>"
      ],
      "text/plain": [
       "          PS1         PS2       PS3  PS4       PS5       PS6         EPS1  \\\n",
       "0  160.673492  109.466914  1.991475  0.0  9.842169  9.728098  2538.929167   \n",
       "1  160.603320  109.354890  1.976234  0.0  9.635142  9.529488  2531.498900   \n",
       "2  160.347720  109.158845  1.972224  0.0  9.530548  9.427949  2519.928000   \n",
       "3  160.188088  109.064807  1.946575  0.0  9.438827  9.337430  2511.541633   \n",
       "4  160.000472  108.931434  1.922707  0.0  9.358762  9.260636  2503.449500   \n",
       "\n",
       "        FS1        FS2        TS1        TS2        TS3        TS4       VS1  \\\n",
       "0  6.709815  10.304592  35.621983  40.978767  38.471017  31.745250  0.576950   \n",
       "1  6.715315  10.403098  36.676967  41.532767  38.978967  34.493867  0.565850   \n",
       "2  6.718522  10.366250  37.880800  42.442450  39.631950  35.646150  0.576533   \n",
       "3  6.720565  10.302678  38.879050  43.403983  40.403383  36.579467  0.569267   \n",
       "4  6.690308  10.237750  39.803917  44.332750  41.310550  37.427900  0.577367   \n",
       "\n",
       "         CP         CE         SE  \n",
       "0  1.862750  39.601350  59.157183  \n",
       "1  1.255550  25.786433  59.335617  \n",
       "2  1.113217  22.218233  59.543150  \n",
       "3  1.062150  20.459817  59.794900  \n",
       "4  1.070467  19.787017  59.455267  "
      ]
     },
     "metadata": {},
     "output_type": "display_data"
    }
   ],
   "source": [
    "display(features.head()) # Menampilkan lima data pertama dari sensor tekanan 1"
   ]
  },
  {
   "cell_type": "markdown",
   "metadata": {},
   "source": [
    "<h4 align=\"center\">Data telah diperoleh!</h4>\n",
    "\n",
    "<img src=\"https://media.giphy.com/media/3oriO7A7bt1wsEP4cw/source.gif\" width=\"480\">\n"
   ]
  },
  {
   "cell_type": "markdown",
   "metadata": {},
   "source": [
    "#### 1b. Label Data\n",
    "Dalam dataset ini, label terdiri dari kondisi pendingin, kondisi katup, kebocoran pompa dalam, akumulator hidrolik, dan tanda stabilitas. Kondisi pendingin terdiri dari _close to total failure, reduced effifiency, dan full efficiency_. Konisi katup terdiri dari _optimal switching behavior, small lag, severe lag, dan close to total failure_. Kebocoran pompa dalam terdiri dari _no leakage, weak leakage, severe leakage_. Akumulator hidrolik terdiri dari _optimal pressure, slightly reduced pressure, severely reduced pressure, dan close to total failure_. Tanda stabilitas terdiri dari _conditions were stable dan static conditions might not have been reached yet_. Dengan keterangan-keterangan yang bisa dilihat di deskripsi diatas."
   ]
  },
  {
   "cell_type": "code",
   "execution_count": 3,
   "metadata": {},
   "outputs": [],
   "source": [
    "# Mendapatkan label\n",
    "# Data label\n",
    "names = [\"Cooler condition (%)\",\"Valve condition (%)\",\"Internal pump leakage\",\"Hydraulic accumulator (bar)\",\"Stable flag\"]\n",
    "label = pd.read_csv(path+\"profile.txt\", delimiter = \"\\t\", header = None, names = names)"
   ]
  },
  {
   "cell_type": "code",
   "execution_count": 4,
   "metadata": {
    "scrolled": true
   },
   "outputs": [
    {
     "data": {
      "text/html": [
       "<div>\n",
       "<style scoped>\n",
       "    .dataframe tbody tr th:only-of-type {\n",
       "        vertical-align: middle;\n",
       "    }\n",
       "\n",
       "    .dataframe tbody tr th {\n",
       "        vertical-align: top;\n",
       "    }\n",
       "\n",
       "    .dataframe thead th {\n",
       "        text-align: right;\n",
       "    }\n",
       "</style>\n",
       "<table border=\"1\" class=\"dataframe\">\n",
       "  <thead>\n",
       "    <tr style=\"text-align: right;\">\n",
       "      <th></th>\n",
       "      <th>Cooler condition (%)</th>\n",
       "      <th>Valve condition (%)</th>\n",
       "      <th>Internal pump leakage</th>\n",
       "      <th>Hydraulic accumulator (bar)</th>\n",
       "      <th>Stable flag</th>\n",
       "    </tr>\n",
       "  </thead>\n",
       "  <tbody>\n",
       "    <tr>\n",
       "      <th>0</th>\n",
       "      <td>3</td>\n",
       "      <td>100</td>\n",
       "      <td>0</td>\n",
       "      <td>130</td>\n",
       "      <td>1</td>\n",
       "    </tr>\n",
       "    <tr>\n",
       "      <th>1</th>\n",
       "      <td>3</td>\n",
       "      <td>100</td>\n",
       "      <td>0</td>\n",
       "      <td>130</td>\n",
       "      <td>1</td>\n",
       "    </tr>\n",
       "    <tr>\n",
       "      <th>2</th>\n",
       "      <td>3</td>\n",
       "      <td>100</td>\n",
       "      <td>0</td>\n",
       "      <td>130</td>\n",
       "      <td>1</td>\n",
       "    </tr>\n",
       "    <tr>\n",
       "      <th>3</th>\n",
       "      <td>3</td>\n",
       "      <td>100</td>\n",
       "      <td>0</td>\n",
       "      <td>130</td>\n",
       "      <td>1</td>\n",
       "    </tr>\n",
       "    <tr>\n",
       "      <th>4</th>\n",
       "      <td>3</td>\n",
       "      <td>100</td>\n",
       "      <td>0</td>\n",
       "      <td>130</td>\n",
       "      <td>1</td>\n",
       "    </tr>\n",
       "  </tbody>\n",
       "</table>\n",
       "</div>"
      ],
      "text/plain": [
       "   Cooler condition (%)  Valve condition (%)  Internal pump leakage  \\\n",
       "0                     3                  100                      0   \n",
       "1                     3                  100                      0   \n",
       "2                     3                  100                      0   \n",
       "3                     3                  100                      0   \n",
       "4                     3                  100                      0   \n",
       "\n",
       "   Hydraulic accumulator (bar)  Stable flag  \n",
       "0                          130            1  \n",
       "1                          130            1  \n",
       "2                          130            1  \n",
       "3                          130            1  \n",
       "4                          130            1  "
      ]
     },
     "metadata": {},
     "output_type": "display_data"
    }
   ],
   "source": [
    "display(label.head()) # Menampilkan lima data pertama dari label"
   ]
  },
  {
   "cell_type": "markdown",
   "metadata": {},
   "source": [
    "#### 1c. Menggabungka data\n",
    "Setelah data dan label didapat, agar memudahkan proses selanjutnya, data dan label digabungkan dalam satu dataframe."
   ]
  },
  {
   "cell_type": "code",
   "execution_count": 5,
   "metadata": {},
   "outputs": [
    {
     "data": {
      "text/html": [
       "<div>\n",
       "<style scoped>\n",
       "    .dataframe tbody tr th:only-of-type {\n",
       "        vertical-align: middle;\n",
       "    }\n",
       "\n",
       "    .dataframe tbody tr th {\n",
       "        vertical-align: top;\n",
       "    }\n",
       "\n",
       "    .dataframe thead th {\n",
       "        text-align: right;\n",
       "    }\n",
       "</style>\n",
       "<table border=\"1\" class=\"dataframe\">\n",
       "  <thead>\n",
       "    <tr style=\"text-align: right;\">\n",
       "      <th></th>\n",
       "      <th>PS1</th>\n",
       "      <th>PS2</th>\n",
       "      <th>PS3</th>\n",
       "      <th>PS4</th>\n",
       "      <th>PS5</th>\n",
       "      <th>PS6</th>\n",
       "      <th>EPS1</th>\n",
       "      <th>FS1</th>\n",
       "      <th>FS2</th>\n",
       "      <th>TS1</th>\n",
       "      <th>...</th>\n",
       "      <th>TS4</th>\n",
       "      <th>VS1</th>\n",
       "      <th>CP</th>\n",
       "      <th>CE</th>\n",
       "      <th>SE</th>\n",
       "      <th>Cooler condition (%)</th>\n",
       "      <th>Valve condition (%)</th>\n",
       "      <th>Internal pump leakage</th>\n",
       "      <th>Hydraulic accumulator (bar)</th>\n",
       "      <th>Stable flag</th>\n",
       "    </tr>\n",
       "  </thead>\n",
       "  <tbody>\n",
       "    <tr>\n",
       "      <th>0</th>\n",
       "      <td>160.673492</td>\n",
       "      <td>109.466914</td>\n",
       "      <td>1.991475</td>\n",
       "      <td>0.0</td>\n",
       "      <td>9.842169</td>\n",
       "      <td>9.728098</td>\n",
       "      <td>2538.929167</td>\n",
       "      <td>6.709815</td>\n",
       "      <td>10.304592</td>\n",
       "      <td>35.621983</td>\n",
       "      <td>...</td>\n",
       "      <td>31.745250</td>\n",
       "      <td>0.576950</td>\n",
       "      <td>1.862750</td>\n",
       "      <td>39.601350</td>\n",
       "      <td>59.157183</td>\n",
       "      <td>3</td>\n",
       "      <td>100</td>\n",
       "      <td>0</td>\n",
       "      <td>130</td>\n",
       "      <td>1</td>\n",
       "    </tr>\n",
       "    <tr>\n",
       "      <th>1</th>\n",
       "      <td>160.603320</td>\n",
       "      <td>109.354890</td>\n",
       "      <td>1.976234</td>\n",
       "      <td>0.0</td>\n",
       "      <td>9.635142</td>\n",
       "      <td>9.529488</td>\n",
       "      <td>2531.498900</td>\n",
       "      <td>6.715315</td>\n",
       "      <td>10.403098</td>\n",
       "      <td>36.676967</td>\n",
       "      <td>...</td>\n",
       "      <td>34.493867</td>\n",
       "      <td>0.565850</td>\n",
       "      <td>1.255550</td>\n",
       "      <td>25.786433</td>\n",
       "      <td>59.335617</td>\n",
       "      <td>3</td>\n",
       "      <td>100</td>\n",
       "      <td>0</td>\n",
       "      <td>130</td>\n",
       "      <td>1</td>\n",
       "    </tr>\n",
       "    <tr>\n",
       "      <th>2</th>\n",
       "      <td>160.347720</td>\n",
       "      <td>109.158845</td>\n",
       "      <td>1.972224</td>\n",
       "      <td>0.0</td>\n",
       "      <td>9.530548</td>\n",
       "      <td>9.427949</td>\n",
       "      <td>2519.928000</td>\n",
       "      <td>6.718522</td>\n",
       "      <td>10.366250</td>\n",
       "      <td>37.880800</td>\n",
       "      <td>...</td>\n",
       "      <td>35.646150</td>\n",
       "      <td>0.576533</td>\n",
       "      <td>1.113217</td>\n",
       "      <td>22.218233</td>\n",
       "      <td>59.543150</td>\n",
       "      <td>3</td>\n",
       "      <td>100</td>\n",
       "      <td>0</td>\n",
       "      <td>130</td>\n",
       "      <td>1</td>\n",
       "    </tr>\n",
       "    <tr>\n",
       "      <th>3</th>\n",
       "      <td>160.188088</td>\n",
       "      <td>109.064807</td>\n",
       "      <td>1.946575</td>\n",
       "      <td>0.0</td>\n",
       "      <td>9.438827</td>\n",
       "      <td>9.337430</td>\n",
       "      <td>2511.541633</td>\n",
       "      <td>6.720565</td>\n",
       "      <td>10.302678</td>\n",
       "      <td>38.879050</td>\n",
       "      <td>...</td>\n",
       "      <td>36.579467</td>\n",
       "      <td>0.569267</td>\n",
       "      <td>1.062150</td>\n",
       "      <td>20.459817</td>\n",
       "      <td>59.794900</td>\n",
       "      <td>3</td>\n",
       "      <td>100</td>\n",
       "      <td>0</td>\n",
       "      <td>130</td>\n",
       "      <td>1</td>\n",
       "    </tr>\n",
       "    <tr>\n",
       "      <th>4</th>\n",
       "      <td>160.000472</td>\n",
       "      <td>108.931434</td>\n",
       "      <td>1.922707</td>\n",
       "      <td>0.0</td>\n",
       "      <td>9.358762</td>\n",
       "      <td>9.260636</td>\n",
       "      <td>2503.449500</td>\n",
       "      <td>6.690308</td>\n",
       "      <td>10.237750</td>\n",
       "      <td>39.803917</td>\n",
       "      <td>...</td>\n",
       "      <td>37.427900</td>\n",
       "      <td>0.577367</td>\n",
       "      <td>1.070467</td>\n",
       "      <td>19.787017</td>\n",
       "      <td>59.455267</td>\n",
       "      <td>3</td>\n",
       "      <td>100</td>\n",
       "      <td>0</td>\n",
       "      <td>130</td>\n",
       "      <td>1</td>\n",
       "    </tr>\n",
       "  </tbody>\n",
       "</table>\n",
       "<p>5 rows × 22 columns</p>\n",
       "</div>"
      ],
      "text/plain": [
       "          PS1         PS2       PS3  PS4       PS5       PS6         EPS1  \\\n",
       "0  160.673492  109.466914  1.991475  0.0  9.842169  9.728098  2538.929167   \n",
       "1  160.603320  109.354890  1.976234  0.0  9.635142  9.529488  2531.498900   \n",
       "2  160.347720  109.158845  1.972224  0.0  9.530548  9.427949  2519.928000   \n",
       "3  160.188088  109.064807  1.946575  0.0  9.438827  9.337430  2511.541633   \n",
       "4  160.000472  108.931434  1.922707  0.0  9.358762  9.260636  2503.449500   \n",
       "\n",
       "        FS1        FS2        TS1  ...        TS4       VS1        CP  \\\n",
       "0  6.709815  10.304592  35.621983  ...  31.745250  0.576950  1.862750   \n",
       "1  6.715315  10.403098  36.676967  ...  34.493867  0.565850  1.255550   \n",
       "2  6.718522  10.366250  37.880800  ...  35.646150  0.576533  1.113217   \n",
       "3  6.720565  10.302678  38.879050  ...  36.579467  0.569267  1.062150   \n",
       "4  6.690308  10.237750  39.803917  ...  37.427900  0.577367  1.070467   \n",
       "\n",
       "          CE         SE  Cooler condition (%)  Valve condition (%)  \\\n",
       "0  39.601350  59.157183                     3                  100   \n",
       "1  25.786433  59.335617                     3                  100   \n",
       "2  22.218233  59.543150                     3                  100   \n",
       "3  20.459817  59.794900                     3                  100   \n",
       "4  19.787017  59.455267                     3                  100   \n",
       "\n",
       "   Internal pump leakage  Hydraulic accumulator (bar)  Stable flag  \n",
       "0                      0                          130            1  \n",
       "1                      0                          130            1  \n",
       "2                      0                          130            1  \n",
       "3                      0                          130            1  \n",
       "4                      0                          130            1  \n",
       "\n",
       "[5 rows x 22 columns]"
      ]
     },
     "metadata": {},
     "output_type": "display_data"
    }
   ],
   "source": [
    "# Menggabungkan fitur dan label dalam 1 dataframe\n",
    "data = pd.concat([features, label], sort=False, axis =1)\n",
    "display(data.head())"
   ]
  },
  {
   "cell_type": "markdown",
   "metadata": {},
   "source": [
    "<h4 align=\"center\">Sekarang, data sensor dan label telah bergabung.</h4>\n",
    "\n",
    "<img src=\"https://media.giphy.com/media/P4TqKx6NHyLnO/giphy.gif\" width=\"480\" height=\"360\">"
   ]
  },
  {
   "cell_type": "markdown",
   "metadata": {},
   "source": [
    "#### 1d. Memplotkan data dalam bentuk scatterplot\n",
    "Untuk mencari hubungan antara variabel, maka diplotkan ke dalam scatter plot. Karena data sangat banyak, maka dipilih hanya satu dari sensor-sensor yang sama (misal, hanya dipilih PS1 dari PS1, PS2, PS3, PS4, PS5, dan PS6). Selanjutnya, untuk mengetahui data manakah yang memiliki korelasi terkuat, maka diplotkan dan dihitung correlation coefficientnya, pada langkah selanjutnya."
   ]
  },
  {
   "cell_type": "code",
   "execution_count": 6,
   "metadata": {},
   "outputs": [],
   "source": [
    "lf = [\"PS1\",\"EPS1\",\n",
    "      \"FS1\",\"TS1\",\"VS1\",\n",
    "      \"CP\",\"CE\",\"SE\"] # Memilih fitur\n",
    "\n",
    "datas = data[lf]\n",
    "\n",
    "from pandas.plotting import scatter_matrix\n",
    "axes = scatter_matrix(datas,figsize=(30, 30), diagonal = None)"
   ]
  },
  {
   "cell_type": "markdown",
   "metadata": {},
   "source": [
    "<img src=\"https://media.makeameme.org/created/i-cant-see-z5njkj.jpg\" width=\"480\">"
   ]
  },
  {
   "cell_type": "markdown",
   "metadata": {},
   "source": [
    "Dari grafik diatas, maka hubungan linear yang mungkin adalah hubungan antara FS1 (Volume flow) dan SE (Efficiency factor). Untuk mengetahui kuat/tidaknya hubungan linier antar dua variabel tersebut, maka dicari correlation coefficientnya seperti yang ditunjukkan langkah berikut."
   ]
  },
  {
   "cell_type": "markdown",
   "metadata": {},
   "source": [
    "### 2. Mencari Correlation Coefficient setiap data"
   ]
  },
  {
   "cell_type": "markdown",
   "metadata": {},
   "source": [
    "Koefisien korelasi adalah nilai yang menunjukan kuat/tidaknya hubungan linier antar dua variabel. Koefisien korelasi biasa dilambangkan dengan huruf r dimana nilai r dapat bervariasi dari -1 sampai +1. Jika bernilai – (negatif) artinya korelasi antara kedua variabel tersebut bersifat berlawanan. Koefisien korelasi pearson atau Product Moment  Coefficient of Correlation adalah nilai yang menunjukan keeratan hubungan linier dua variabel dengan skala data interval atau rasio. Rumus yang digunakan adalah,\n",
    "\n",
    "<img src=\"https://parameterd.files.wordpress.com/2013/09/116.png\" width=\"40%\">"
   ]
  },
  {
   "cell_type": "code",
   "execution_count": 7,
   "metadata": {},
   "outputs": [
    {
     "data": {
      "image/png": "[encoded data removed]",
      "text/plain": [
       "<Figure size 720x576 with 2 Axes>"
      ]
     },
     "metadata": {
      "needs_background": "light"
     },
     "output_type": "display_data"
    }
   ],
   "source": [
    "import seaborn as sns\n",
    "import matplotlib.pyplot as plt\n",
    "\n",
    "corr = features.corr()\n",
    "fig, ax = plt.subplots(figsize=(10, 8)) # Ukuran grafik\n",
    "\n",
    "# Membuat Heat Map, yang bisa diberi anotasi dan nilai\n",
    "sns.heatmap(corr, cmap='coolwarm', annot=True, fmt=\".2f\")\n",
    "\n",
    "plt.xticks(range(len(corr.columns)), corr.columns) # Memberi label X\n",
    "plt.yticks(range(len(corr.columns)), corr.columns) # Memberi label Y\n",
    "plt.title(\"HeatMap dari Correlation Coefficient\\n\", fontsize= 20)\n",
    "\n",
    "plt.show()"
   ]
  },
  {
   "cell_type": "markdown",
   "metadata": {},
   "source": [
    "Dari grafik heatmap tersebut, nilai antara sensor-sensor yang mengukur besaran yang sama, memiliki korelasi yang tinggi, yaitu mendekati 1. Agar lebih menarik, maka dipilih dua data yang mengukur besaran berbeda, dan memiliki korelasi yang tinggi untuk selanjutnya dilakukan proses regresi. Dari grafik HeatMap tersebut, dipilih FS1 dan SE1. Jika diplotkan secara terpisah, maka hasilnya adalah sebagai berikut,"
   ]
  },
  {
   "cell_type": "code",
   "execution_count": 8,
   "metadata": {},
   "outputs": [
    {
     "data": {
      "image/png": "[encoded data removed]",
      "text/plain": [
       "<Figure size 432x288 with 1 Axes>"
      ]
     },
     "metadata": {
      "needs_background": "light"
     },
     "output_type": "display_data"
    }
   ],
   "source": [
    "import matplotlib.pyplot as plt\n",
    "\n",
    "df = pd.DataFrame()\n",
    "\n",
    "x = data[\"FS1\"]\n",
    "y = data[\"SE\"]\n",
    "\n",
    "x_data = x\n",
    "y_data = y\n",
    "\n",
    "plt.plot(x,y,\"bo\")\n",
    "plt.title(\"Hubungan FS1 dan SE\")\n",
    "plt.ylabel(\"SE\")\n",
    "plt.xlabel(\"FS1\")\n",
    "plt.show()"
   ]
  },
  {
   "cell_type": "markdown",
   "metadata": {},
   "source": [
    "###### Bagaimana Anda menghitung efisiensi hidrolik?\n",
    "Efisiensi volumetrik/hidrolik ditentukan dengan membagi aliran aktual yang dikirim oleh pompa pada tekanan yang diberikan dengan aliran teoretisnya. Aliran teoretis dihitung dengan mengalikan perpindahan pompa per revolusi dengan kecepatannya."
   ]
  },
  {
   "cell_type": "markdown",
   "metadata": {},
   "source": [
    "### 3. Statistik Deskriptif"
   ]
  },
  {
   "cell_type": "code",
   "execution_count": 9,
   "metadata": {},
   "outputs": [
    {
     "data": {
      "text/plain": [
       "count    2205.000000\n",
       "mean        6.198549\n",
       "std         1.032883\n",
       "min         2.018572\n",
       "25%         6.391670\n",
       "50%         6.576673\n",
       "75%         6.657508\n",
       "max         6.722707\n",
       "Name: FS1, dtype: float64"
      ]
     },
     "metadata": {},
     "output_type": "display_data"
    },
    {
     "data": {
      "text/plain": [
       "count    2205.000000\n",
       "mean       55.287900\n",
       "std         8.960189\n",
       "min        18.276617\n",
       "25%        56.270183\n",
       "50%        58.758150\n",
       "75%        59.656900\n",
       "max        60.755300\n",
       "Name: SE, dtype: float64"
      ]
     },
     "metadata": {},
     "output_type": "display_data"
    }
   ],
   "source": [
    "display(data[\"FS1\"].describe(include = \"all\")) # Menampilkan Statistik deskriptif untuk data FS1\n",
    "display(data[\"SE\"].describe(include = \"all\")) # Menampilkan Statistik deskriptif untuk data SE"
   ]
  },
  {
   "cell_type": "markdown",
   "metadata": {},
   "source": [
    "**Count** adalah hitungan nilai tidak termasuk NaN, dihitung untuk semua kolom. **Mean** adalah (rata-rata) dari semua nilai numerik dalam kolom (atau seri), dihitung hanya untuk tipe numerik kolom (atau seri). **Std** adalah tandar deviasi dari semua nilai numerik dalam kolom (atau seri), dihitung hanya untuk tipe numerik kolom (atau seri). **Min** adalah nilai minimum semua nilai numerik dalam kolom (atau seri), dihitung hanya untuk tipe numerik kolom (atau seri). **25%, 50%, 75%** adalah nilai persentil yang diberikan (masing-masing kuantil 1, 2 dan 3) dari semua nilai numerik dalam kolom (atau seri), dihitung hanya untuk tipe numerik kolom (atau seri). **Max** adalah nilai maksimum semua nilai numerik dalam kolom (atau seri), dihitung hanya untuk tipe numerik kolom (atau seri).\n",
    "\n",
    "\n",
    "<img src=\"https://media.giphy.com/media/5UG0AFAcIlQoZIiOuN/giphy.gif\" width=\"480\">\n",
    "\n",
    "Yang perlu dibahas disini adalah mean dan std. Mean (rata-rata) merupakan suatu ukuran pemusatan data. Mean suatu data juga merupakan statistik karena mampu menggambarkan bahwa data tersebut berada pada kisaran mean data tersebut. Berarti pada data diatas, nilai FS1 berada dikisaran 6.19 l/min, dan SE 55%.\n",
    "\n",
    "Standar Deviasi dan Varians Salah satu teknik statistik yg digunakan untuk menjelaskan homogenitas kelompok. Varians merupakan jumlah kuadrat semua deviasi nilai-nilai individual thd rata-rata kelompok. Sedangkan akar dari varians disebut dengan standar deviasi atau simpangan baku. Standar Deviasi dan Varians Simpangan baku merupakan variasi sebaran data. Semakin kecil nilai sebarannya berarti variasi nilai data makin sama Jika sebarannya bernilai 0, maka nilai semua datanya adalah sama. Semakin besar nilai sebarannya berarti data semakin bervariasi. Nilai std FS1 lebih kecil daripada SE, sehingga SE lebih bervariasi.\n"
   ]
  },
  {
   "cell_type": "markdown",
   "metadata": {},
   "source": [
    "### 4. Melakukan regresi linear ataupun non-linear"
   ]
  },
  {
   "cell_type": "markdown",
   "metadata": {},
   "source": [
    "#### 4a. Regresi Linear\n",
    "Dalam statistika, regresi linear adalah sebuah pendekatan untuk memodelkan hubungan antara variable terikat Y dan satu atau lebih variable bebas yang disebut X. Salah satu kegunaan dari regresi linear adalah untuk melakukan prediksi berdasarkan data-data yang telah dimiliki sebelumnya. Hubungan di antara variable-variabel tersebut disebut sebagai model regresi linear. Persamaannya adalah sebagai berikut,\n",
    "\\begin{align}\n",
    "y & = \\beta_0 + \\beta_1*x \\\\\n",
    "\\end{align}\n",
    "\n",
    "dimana $\\beta_0$ menunjukkan interception, $\\beta_1$ menunjukkan slope. Regresi linear dari SE dan FS1, adalah sebagai berikut,"
   ]
  },
  {
   "cell_type": "code",
   "execution_count": 10,
   "metadata": {},
   "outputs": [
    {
     "name": "stdout",
     "output_type": "stream",
     "text": [
      "Intercept: 0.03\n",
      "Slope: 0.96\n",
      "R²: 0.99\n"
     ]
    }
   ],
   "source": [
    "import numpy as np\n",
    "import pandas as pd\n",
    "from sklearn.linear_model import LinearRegression\n",
    "from sklearn.metrics import r2_score, mean_absolute_error, mean_squared_error\n",
    "import math\n",
    "\n",
    "np.random.seed(0)\n",
    "\n",
    "# Menormalisasi data\n",
    "xdata =x/max(x)\n",
    "ydata =y/max(y)\n",
    "\n",
    "# Membagi data sebagai data train dan data test dengan perbandingan 8:2\n",
    "msk = np.random.rand(len(x)) < 0.8\n",
    "\n",
    "train_x = np.array(xdata[msk]).reshape(-1,1)\n",
    "test_x = np.array(xdata[~msk]).reshape(-1,1)\n",
    "train_y = np.array(ydata[msk]).reshape(-1,1)\n",
    "test_y = np.array(ydata[~msk]).reshape(-1,1)\n",
    "\n",
    "model = LinearRegression()\n",
    "model.fit(train_x,train_y)\n",
    "\n",
    "intercept = model.intercept_ # Menghitung Intersepsi (b0)\n",
    "slope = model.coef_[0] # Menghitung Slop (b1)\n",
    "r_sq = model.score(train_x,train_y) # Menghitung hubungan variabel x dan y\n",
    "\n",
    "pred_y = model.predict(test_x)\n",
    "\n",
    "print('Intercept: {:0.2f}'.format(intercept[0]))\n",
    "print('Slope: {:0.2f}'.format(slope[0]))\n",
    "print('R\\u00b2: {:0.2f}'.format(r_sq))\n",
    "\n",
    "mae = mean_absolute_error(test_y, pred_y)  \n",
    "mse = mean_squared_error(test_y, pred_y)\n",
    "rmse = math.sqrt(mse)\n",
    "\n",
    "result = pd.DataFrame() # Membuat dataframe untuk menampung hasil\n",
    "result[\"Linear\"] = [mae,mse,rmse,r_sq]"
   ]
  },
  {
   "cell_type": "markdown",
   "metadata": {},
   "source": [
    "#### 4b. Regresi Non-linear\n",
    "Selain regresi linear, pada data SE dan FS1 akan diterapkan regresi non-linear juga. Regresi non-linear yang digunakan antara lain regresi dengan menggunakan fungsi sigmoid, exponensial, dan kuadratik. Regresinya sebagai berikut,"
   ]
  },
  {
   "cell_type": "markdown",
   "metadata": {},
   "source": [
    "Persamaan dari fungsi-fungsi tersebut adalah sebagai berikut,\n",
    "1. Sigmoid: $ y = a + \\frac{b}{1+ c^{(x-d)}}$\n",
    "2. Exponensial: $ y = ae^{\\beta x}$\n",
    "3. Kubik: $ y = a + bx +cx^2+dx^3 $\n",
    "4. Kuadratik $ y = a + bx +cx^2$"
   ]
  },
  {
   "cell_type": "code",
   "execution_count": 11,
   "metadata": {},
   "outputs": [],
   "source": [
    "# Fungsi Sigmoid\n",
    "def sigmoid(x, Beta_1, Beta_2):\n",
    "    y = 1 / (1 + np.exp(-Beta_1*(x-Beta_2)))\n",
    "    return y\n",
    "\n",
    "# Fungsi Eksponensial\n",
    "def expo(x,Beta_0, Beta_1):\n",
    "    y = Beta_0*np.exp(Beta_1*x)\n",
    "    return y\n",
    "\n",
    "# Fungsi Kubik\n",
    "def qubic(x,Beta_0,Beta_1,Beta_2,Beta_3):\n",
    "    y = Beta_0+Beta_1*x+Beta_2*x**2+Beta_3*x**3\n",
    "    return y\n",
    "\n",
    "# Fungsi Kuadratik\n",
    "def quad(x,Beta_0,Beta_1,Beta_2):\n",
    "    y = Beta_0+Beta_1*x+Beta_2*x**2\n",
    "    return y"
   ]
  },
  {
   "cell_type": "markdown",
   "metadata": {},
   "source": [
    "\n",
    "<h4 align=\"center\">Bagaimana bentuk dari fungsi-fungsi tersebut?</h4>\n",
    "\n",
    "<img src=\"https://media.giphy.com/media/l0HlRnAWXxn0MhKLK/source.gif\" width=\"480\">\n",
    "\n",
    "Untuk mendapatkan bentuk dari fungsi-fungsi tersebut, kita coba plotkan dengan inputan antara 0 sampai 5 dan beta sembarang."
   ]
  },
  {
   "cell_type": "code",
   "execution_count": 12,
   "metadata": {},
   "outputs": [
    {
     "data": {
      "text/plain": [
       "Text(0.5, 1.0, 'Kuadratik')"
      ]
     },
     "execution_count": 12,
     "metadata": {},
     "output_type": "execute_result"
    },
    {
     "data": {
      "image/png": "[encoded data removed]",
      "text/plain": [
       "<Figure size 720x720 with 4 Axes>"
      ]
     },
     "metadata": {
      "needs_background": "light"
     },
     "output_type": "display_data"
    }
   ],
   "source": [
    "# Membuat input x\n",
    "d_x = np.arange(0, 5.0, 0.1)\n",
    "\n",
    "# Membuat output y dari input x, dengan nilai beta sembarang\n",
    "d_y1 = sigmoid(d_x, 1,2)\n",
    "d_y2 = expo(d_x,1,2)\n",
    "d_y3 = qubic(d_x,1,2,3,4)\n",
    "d_y4 = quad(d_x,1,2,3)\n",
    "\n",
    "# Memplotkan\n",
    "fig, axes = plt.subplots(nrows = 2, ncols = 2, figsize=(10, 10))\n",
    "axes[0][0].plot(d_x,d_y1)\n",
    "axes[0][0].set_title(\"Sigmoid\")\n",
    "axes[0][1].plot(d_x,d_y2)\n",
    "axes[0][1].set_title(\"Eksponensial\")\n",
    "axes[1][0].plot(d_x,d_y3)\n",
    "axes[1][0].set_title(\"Kubik\")\n",
    "axes[1][1].plot(d_x,d_y4)\n",
    "axes[1][1].set_title(\"Kuadratik\")"
   ]
  },
  {
   "cell_type": "markdown",
   "metadata": {},
   "source": [
    "Setelah mengetahui bentuk dari fungsi-fungsi tersebut, maka dilakukan proses curve_fit untuk mendapatkan beta yang terbaik, dan mendapatkan modelnya. Kemudian Mean Absolute Error, Mean Square Error, dan R2 dihitung untuk mengevaluasi model tersebut.\n",
    "\n",
    "##### Evaluasi Model\n",
    "Metrik MSE, MAE, RMSE, dan R-Squared digunakan untuk mengevaluasi tingkat kesalahan prediksi dan kinerja model dalam analisis regresi.\n",
    "1. MAE (Mean absolute error) mewakili perbedaan antara nilai asli dan prediksi yang diekstraksi dengan rata-rata perbedaan absolut atas kumpulan data.\n",
    "2. MSE (Mean Squared Error) mewakili perbedaan antara nilai asli dan prediksi yang diekstraksi dengan kuadrat perbedaan rata-rata atas kumpulan data.\n",
    "3. RMSE (Root Mean Squared Error) adalah tingkat kesalahan oleh akar kuadrat dari MSE.\n",
    "4. R-squared (Koefisien determinasi) mewakili koefisien seberapa baik nilai-nilai tersebut sesuai dengan nilai-nilai aslinya. Nilai dari 0 hingga 1 diartikan sebagai persentase. Semakin tinggi nilainya, semakin baik modelnya\n",
    "\n",
    "$MAE = \\frac{1}{N}\\sum_{i=1}^{N}|y_i - \\hat{y}| $\n",
    "\n",
    "$MSE = \\frac{1}{N}\\sum_{i=1}^{N}(y_i - \\hat{y})^2 $\n",
    "\n",
    "$RMSE = \\sqrt{\\frac{1}{N}\\sum_{i=1}^{N}(y_i - \\hat{y})^2} $\n",
    "\n",
    "$R^2 = 1 - \\frac{\\sum  (y_i - \\hat{y})^2}{\\sum (y_i - \\bar{y})^2}$\n",
    "\n",
    "$\\hat{y} = $ nilai y prediksi\n",
    "\n",
    "$\\bar{y} = $ nilai rata-rata y"
   ]
  },
  {
   "cell_type": "code",
   "execution_count": 13,
   "metadata": {},
   "outputs": [
    {
     "name": "stdout",
     "output_type": "stream",
     "text": [
      "\n",
      "Sigmoid\n",
      "Mean absolute error (MAE) using Sigmoid Function: 1.90E-02 \n",
      "Residual sum of squares (MSE) using Sigmoid Function: 5.41E-04\n",
      "Root of MSE using Sigmoid Function: 2.33E-02\n",
      "R2-score using Sigmoid Function: 9.71E-01\n",
      "\n",
      "Eksponensial\n",
      "Mean absolute error (MAE) using Eksponensial Function: 1.31E-02 \n",
      "Residual sum of squares (MSE) using Eksponensial Function: 2.51E-04\n",
      "Root of MSE using Eksponensial Function: 1.58E-02\n",
      "R2-score using Eksponensial Function: 9.87E-01\n",
      "\n",
      "Kubik\n",
      "Mean absolute error (MAE) using Kubik Function: 1.25E-02 \n",
      "Residual sum of squares (MSE) using Kubik Function: 2.18E-04\n",
      "Root of MSE using Kubik Function: 1.48E-02\n",
      "R2-score using Kubik Function: 9.89E-01\n",
      "\n",
      "Kuadratik\n",
      "Mean absolute error (MAE) using Kuadratik Function: 1.28E-02 \n",
      "Residual sum of squares (MSE) using Kuadratik Function: 2.25E-04\n",
      "Root of MSE using Kuadratik Function: 1.50E-02\n",
      "R2-score using Kuadratik Function: 9.88E-01\n",
      "\n",
      "\n"
     ]
    },
    {
     "data": {
      "text/html": [
       "<div>\n",
       "<style scoped>\n",
       "    .dataframe tbody tr th:only-of-type {\n",
       "        vertical-align: middle;\n",
       "    }\n",
       "\n",
       "    .dataframe tbody tr th {\n",
       "        vertical-align: top;\n",
       "    }\n",
       "\n",
       "    .dataframe thead th {\n",
       "        text-align: right;\n",
       "    }\n",
       "</style>\n",
       "<table border=\"1\" class=\"dataframe\">\n",
       "  <thead>\n",
       "    <tr style=\"text-align: right;\">\n",
       "      <th></th>\n",
       "      <th>Linear</th>\n",
       "      <th>Sigmoid</th>\n",
       "      <th>Eksponensial</th>\n",
       "      <th>Kubik</th>\n",
       "      <th>Kuadratik</th>\n",
       "    </tr>\n",
       "  </thead>\n",
       "  <tbody>\n",
       "    <tr>\n",
       "      <th>MAE</th>\n",
       "      <td>0.012742</td>\n",
       "      <td>0.018970</td>\n",
       "      <td>0.013066</td>\n",
       "      <td>0.012519</td>\n",
       "      <td>0.012777</td>\n",
       "    </tr>\n",
       "    <tr>\n",
       "      <th>MSE</th>\n",
       "      <td>0.000230</td>\n",
       "      <td>0.000541</td>\n",
       "      <td>0.000251</td>\n",
       "      <td>0.000218</td>\n",
       "      <td>0.000225</td>\n",
       "    </tr>\n",
       "    <tr>\n",
       "      <th>RMSE</th>\n",
       "      <td>0.015165</td>\n",
       "      <td>0.023270</td>\n",
       "      <td>0.015830</td>\n",
       "      <td>0.014762</td>\n",
       "      <td>0.015011</td>\n",
       "    </tr>\n",
       "    <tr>\n",
       "      <th>R2</th>\n",
       "      <td>0.989401</td>\n",
       "      <td>0.970869</td>\n",
       "      <td>0.986912</td>\n",
       "      <td>0.988636</td>\n",
       "      <td>0.988239</td>\n",
       "    </tr>\n",
       "  </tbody>\n",
       "</table>\n",
       "</div>"
      ],
      "text/plain": [
       "        Linear   Sigmoid  Eksponensial     Kubik  Kuadratik\n",
       "MAE   0.012742  0.018970      0.013066  0.012519   0.012777\n",
       "MSE   0.000230  0.000541      0.000251  0.000218   0.000225\n",
       "RMSE  0.015165  0.023270      0.015830  0.014762   0.015011\n",
       "R2    0.989401  0.970869      0.986912  0.988636   0.988239"
      ]
     },
     "metadata": {},
     "output_type": "display_data"
    }
   ],
   "source": [
    "from scipy.optimize import curve_fit\n",
    "import numpy as np\n",
    "\n",
    "func = ['Sigmoid','Eksponensial','Kubik','Kuadratik']\n",
    "\n",
    "for i in range(len(func)):\n",
    "    # Membangun model\n",
    "    if(i == 0):\n",
    "        popt, pcov = curve_fit(sigmoid, train_x.flatten(), train_y.flatten()) # Membangun model dengan data train\n",
    "        y_hat = sigmoid(test_x, *popt) # Memprediksi dengan test set\n",
    "    if(i == 1):\n",
    "        popt, pcov = curve_fit(expo, train_x.flatten(), train_y.flatten()) # Membangun model dengan data train\n",
    "        y_hat = expo(test_x, *popt) # Memprediksi dengan test set\n",
    "    if(i == 2):\n",
    "        popt, pcov = curve_fit(qubic, train_x.flatten(), train_y.flatten()) # Membangun model dengan data train\n",
    "        y_hat = qubic(test_x, *popt) # Memprediksi dengan test set\n",
    "    if(i == 3):\n",
    "        popt, pcov = curve_fit(quad, train_x.flatten(), train_y.flatten()) # Membangun model dengan data train\n",
    "        y_hat = quad(test_x, *popt) # Memprediksi dengan test set  \n",
    "    \n",
    "    mae = np.mean(np.absolute(y_hat - test_y)) # Menghitung Mean Absolute Error\n",
    "    mse = np.mean((y_hat - test_y) ** 2) # Menghitung Mean Square Error\n",
    "    r2  = r2_score(y_hat , test_y) # Menghitung R2\n",
    "    rmse = math.sqrt(mse)\n",
    "\n",
    "    # Evaluasi\n",
    "    print(\"\\n{}\".format(func[i]))\n",
    "    print(\"Mean absolute error (MAE) using {} Function: {:0.2E} \".format(func[i],mae))\n",
    "    print(\"Residual sum of squares (MSE) using {} Function: {:0.2E}\".format(func[i],mse))\n",
    "    print(\"Root of MSE using {} Function: {:0.2E}\".format(func[i],rmse))\n",
    "    print(\"R2-score using {} Function: {:0.2E}\".format(func[i],r2))\n",
    "    \n",
    "    result[func[i]] = [mae,mse,rmse,r2] # Menyimpan hasil\n",
    "\n",
    "result.rename(index={0:'MAE',1:'MSE', 2:'RMSE',3:'R2'}, inplace=True)\n",
    "print('\\n')\n",
    "display(result)"
   ]
  },
  {
   "cell_type": "code",
   "execution_count": 14,
   "metadata": {},
   "outputs": [
    {
     "name": "stdout",
     "output_type": "stream",
     "text": [
      "Nilai R2  tertinggi adalah: Linear\n",
      "Nilai MAE  terendah adalah: Kubik\n",
      "Nilai MSE  terendah adalah: Kubik\n",
      "Nilai RMSE terendah adalah: Kubik\n"
     ]
    }
   ],
   "source": [
    "print(\"Nilai R2  tertinggi adalah:\",result.loc[\"R2\"].idxmax())\n",
    "print(\"Nilai MAE  terendah adalah:\",result.loc[\"MAE\"].idxmin())\n",
    "print(\"Nilai MSE  terendah adalah:\",result.loc[\"MSE\"].idxmin())\n",
    "print(\"Nilai RMSE terendah adalah:\",result.loc[\"RMSE\"].idxmin())"
   ]
  },
  {
   "cell_type": "markdown",
   "metadata": {},
   "source": [
    "<h4 align=\"center\">Kita sudah mendapatkan model regresi yang tepat.</h4>\n",
    "\n",
    "<img src=\"https://media.giphy.com/media/diUKszNTUghVe/giphy.gif\" width=\"240\">\n",
    "\n",
    "##### Kesimpulan:\n",
    "Dari tabel diatas, regresi terbaik adalah **Kubik**, dengan nilai MAE dan MSE terendah dari yang lain, serta nilai R2 yang terbesar. Sehingga jika digrafikkan,"
   ]
  },
  {
   "cell_type": "code",
   "execution_count": 15,
   "metadata": {},
   "outputs": [
    {
     "data": {
      "image/png": "[encoded data removed]",
      "text/plain": [
       "<Figure size 432x288 with 1 Axes>"
      ]
     },
     "metadata": {
      "needs_background": "light"
     },
     "output_type": "display_data"
    }
   ],
   "source": [
    "popt1, pcov1 = curve_fit(qubic, train_x.flatten(), train_y.flatten())\n",
    "y_hat = qubic(test_x, *popt1) # Memprediksi dengan test set\n",
    "y = qubic(xdata, *popt1)\n",
    "plt.scatter(xdata, ydata,marker = '+',label = \"Data\")\n",
    "plt.scatter(xdata,y, marker = '*',label = \"Kubik\")\n",
    "\n",
    "plt.legend(loc='best')\n",
    "plt.ylabel('SE')\n",
    "plt.xlabel('FS1')\n",
    "plt.title(\"Hubungan antara SE dengan FS1\")\n",
    "plt.show()"
   ]
  },
  {
   "cell_type": "markdown",
   "metadata": {},
   "source": [
    "##### Study Cases: Berapa efisiensi faktornya jika volume aliran 8 l/min?"
   ]
  },
  {
   "cell_type": "code",
   "execution_count": 16,
   "metadata": {},
   "outputs": [
    {
     "name": "stdout",
     "output_type": "stream",
     "text": [
      "Efisiensi jika volume alirnya 8 adalah 76.47%\n"
     ]
    }
   ],
   "source": [
    "FS1 = 8 # Menentukan FS1\n",
    "SE = qubic(FS1/max(x_data),*popt1)*max(y_data) # Menghitung SE dari fungsi terbaik (Kubik)\n",
    "\n",
    "print(\"Efisiensi jika volume alirnya {:d} adalah {:.2f}%\".format(FS1,SE))"
   ]
  },
  {
   "cell_type": "markdown",
   "metadata": {},
   "source": [
    "## Classification\n",
    "##### Apakah kita bisa mengetahui dan mengklasifikasi stabilitas Hydraulic berdasarkan sensor-sensor yang ada?\n",
    "Seperti yang dijelaskan sebelumnya, dalam dataset ini, label terdiri dari kondisi pendingin, kondisi katup, kebocoran pompa dalam, akumulator hidrolik, dan tanda stabilitas. Kondisi pendingin terdiri dari _close to total failure, reduced effifiency, dan full efficiency_. Konisi katup terdiri dari _optimal switching behavior, small lag, severe lag, dan close to total failure_. Kebocoran pompa dalam terdiri dari _no leakage, weak leakage, severe leakage_. Akumulator hidrolik terdiri dari _optimal pressure, slightly reduced pressure, severely reduced pressure, dan close to total failure_. Tanda stabilitas terdiri dari _conditions were stable dan static conditions might not have been reached yet_.\n",
    "\n",
    "<h4 align=\"center\">Label mana yang digunakan untuk klasifikasi?</h4>\n",
    "<img src=\"https://media.giphy.com/media/xUA7aUNw61j9Vdzs0U/source.gif\" width=\"480\">\n",
    "\n",
    "Untuk proses klasifikasi, label yang diambil adalah _Tanda Stabilitas_ , dengan label _conditions were stable_ dengan nilai 0 dan _static conditions might not have been reached yet_ dengan nilai 1. Tabel ini menunjukkan kondisi stabilitas dari Hydraulic. Sehingga tujuan dari proses klasifikasi ini adalah mengklasifikasi kondisi stabilitas hydraulic berdasarkan hasil pembacaan sensor-sensor yang ada dalam hydraulic tersebut."
   ]
  },
  {
   "cell_type": "markdown",
   "metadata": {},
   "source": [
    "Pertama, pilih data input yang akan digunakan serta target yang akan dipakai klasifikasi. Setelah itu data displit menjadi data train dan data test. Dan setelah itu data dinormalisasi"
   ]
  },
  {
   "cell_type": "code",
   "execution_count": 17,
   "metadata": {},
   "outputs": [],
   "source": [
    "# Memilih input\n",
    "X = data[[\"PS1\",\"PS2\",\"PS3\",\"PS4\",\"PS5\",\"PS6\",\"EPS1\",\n",
    "                \"FS1\",\"FS2\",\"TS1\",\"TS2\",\"TS3\",\"TS4\",\"VS1\",\n",
    "                \"CP\",\"CE\",\"SE\"]]\n",
    "\n",
    "# Memilih target\n",
    "y = data[['Stable flag']]\n",
    "\n",
    "# Mensplit data test dan data train\n",
    "from sklearn.model_selection import train_test_split\n",
    "X_train, X_test, y_train, y_test = train_test_split(X,y, random_state=0)\n",
    "\n",
    "# Normalisasi data\n",
    "from sklearn.preprocessing import MinMaxScaler\n",
    "scaler = MinMaxScaler()\n",
    "X_train = scaler.fit_transform(X_train)\n",
    "X_test = scaler.transform(X_test)\n",
    "\n",
    "result = dict() # Membuat penampung hasil"
   ]
  },
  {
   "cell_type": "markdown",
   "metadata": {},
   "source": [
    "Disini, digunakan beberapa Classifier, dan dicari Classifier yang terbaik dari classifier-classifier tersebut. Classifier yang digunakan antara lain _LogisticRegression, KNeighborsClassifier, LinearDiscriminantAnalysis, GaussianNB_ , dan _SVC_\n",
    "\n",
    "<img src=\"https://media.giphy.com/media/2vqB3SPyzhSGO6ORQR/giphy.gif\" width=\"480\">\n",
    "\n",
    "Untuk mengetahui lebih lanjut mengenai classifier-classifier tersebut, bisa mengunjungi:\n",
    "1. _LogisticRegression_ : [link](https://en.wikipedia.org/wiki/Logistic_regression)\n",
    "2. _KNeighborsClassifier_ : [link](https://en.wikipedia.org/wiki/K-nearest_neighbors_algorithm)\n",
    "3. _LinearDiscriminantAnalysis_ : [link](https://en.wikipedia.org/wiki/Linear_discriminant_analysis)\n",
    "4. _GaussianNB_ : [link](https://en.wikipedia.org/wiki/Naive_Bayes_classifier)\n",
    "5. _SVC_ : [link](https://en.wikipedia.org/wiki/Support-vector_machine)"
   ]
  },
  {
   "cell_type": "code",
   "execution_count": 18,
   "metadata": {},
   "outputs": [
    {
     "name": "stdout",
     "output_type": "stream",
     "text": [
      "Classifier terbaik untuk data Train: KNeighborsClassifier\n",
      "Classifier terbaik untuk data Test: KNeighborsClassifier\n"
     ]
    },
    {
     "data": {
      "text/html": [
       "<div>\n",
       "<style scoped>\n",
       "    .dataframe tbody tr th:only-of-type {\n",
       "        vertical-align: middle;\n",
       "    }\n",
       "\n",
       "    .dataframe tbody tr th {\n",
       "        vertical-align: top;\n",
       "    }\n",
       "\n",
       "    .dataframe thead th {\n",
       "        text-align: right;\n",
       "    }\n",
       "</style>\n",
       "<table border=\"1\" class=\"dataframe\">\n",
       "  <thead>\n",
       "    <tr style=\"text-align: right;\">\n",
       "      <th></th>\n",
       "      <th>LogisticRegression</th>\n",
       "      <th>KNeighborsClassifier</th>\n",
       "      <th>LinearDiscriminantAnalysis</th>\n",
       "      <th>GaussianNB</th>\n",
       "      <th>SVC</th>\n",
       "    </tr>\n",
       "  </thead>\n",
       "  <tbody>\n",
       "    <tr>\n",
       "      <th>Train</th>\n",
       "      <td>0.773745</td>\n",
       "      <td>0.969147</td>\n",
       "      <td>0.914701</td>\n",
       "      <td>0.561404</td>\n",
       "      <td>0.728978</td>\n",
       "    </tr>\n",
       "    <tr>\n",
       "      <th>Test</th>\n",
       "      <td>0.771739</td>\n",
       "      <td>0.958333</td>\n",
       "      <td>0.916667</td>\n",
       "      <td>0.507246</td>\n",
       "      <td>0.757246</td>\n",
       "    </tr>\n",
       "  </tbody>\n",
       "</table>\n",
       "</div>"
      ],
      "text/plain": [
       "       LogisticRegression  KNeighborsClassifier  LinearDiscriminantAnalysis  \\\n",
       "Train            0.773745              0.969147                    0.914701   \n",
       "Test             0.771739              0.958333                    0.916667   \n",
       "\n",
       "       GaussianNB       SVC  \n",
       "Train    0.561404  0.728978  \n",
       "Test     0.507246  0.757246  "
      ]
     },
     "metadata": {},
     "output_type": "display_data"
    }
   ],
   "source": [
    "# Mengimport library untuk proses klasifikasi\n",
    "from sklearn.linear_model import LogisticRegression\n",
    "from sklearn.neighbors import KNeighborsClassifier\n",
    "from sklearn.discriminant_analysis import LinearDiscriminantAnalysis\n",
    "from sklearn.naive_bayes import GaussianNB\n",
    "from sklearn.svm import SVC\n",
    "\n",
    "# Melakukan fitting masing-masing klasifikasi\n",
    "logreg = LogisticRegression()\n",
    "logreg.fit(X_train, y_train)\n",
    "\n",
    "knn = KNeighborsClassifier()\n",
    "knn.fit(X_train, y_train)\n",
    "\n",
    "lda = LinearDiscriminantAnalysis()\n",
    "lda.fit(X_train, y_train)\n",
    "\n",
    "gnb = GaussianNB()\n",
    "gnb.fit(X_train, y_train)\n",
    "\n",
    "svm = SVC()\n",
    "svm.fit(X_train, y_train)\n",
    "\n",
    "# Menampung Hasil\n",
    "result['LogisticRegression'] = [logreg.score(X_train, y_train), logreg.score(X_test, y_test)]\n",
    "result['KNeighborsClassifier'] = [knn.score(X_train, y_train), knn.score(X_test, y_test)]\n",
    "result['LinearDiscriminantAnalysis'] = [lda.score(X_train, y_train), lda.score(X_test, y_test)]\n",
    "result['GaussianNB'] = [gnb.score(X_train, y_train), gnb.score(X_test, y_test)]\n",
    "result['SVC'] = [svm.score(X_train, y_train), svm.score(X_test, y_test)]\n",
    "\n",
    "my_result = pd.DataFrame(result)\n",
    "my_result.rename(index={0:'Train',1:'Test'}, inplace=True)\n",
    "\n",
    "index = my_result.idxmax(axis = 1)\n",
    "\n",
    "print(\"Classifier terbaik untuk data Train: {}\".format(index[0]))\n",
    "print(\"Classifier terbaik untuk data Test: {}\".format(index[1]))\n",
    "\n",
    "display(my_result)"
   ]
  },
  {
   "cell_type": "markdown",
   "metadata": {},
   "source": [
    "##### Kesimpulan\n",
    "Dari classifier-classifier yang digunakan, classifier yang terbaik adalah KNN. Dengan classifier ini, sistem dapat mengklasifikasikan kondisi hydraulic berdasarkan data yang didapat dari sensor-sensor yang terpasang di hydraulic tersebut. Keakuratan dari klasifier ini adalah 95%. Dengan keakuratan tersebut, classifier diperkirakan mampu memprediksi kondisi hydraulic untuk kedepannya."
   ]
  },
  {
   "cell_type": "markdown",
   "metadata": {},
   "source": [
    "<img src=\"https://media.giphy.com/media/HX3lSnGXZnaWk/source.gif\" width=\"480\">\n",
    "\n",
    "<h1 align=\"center\">Finish</h1>\n"
   ]
  },
  {
   "cell_type": "markdown",
   "metadata": {},
   "source": [
    "Relevant Papers:\n",
    "\n",
    "1. Nikolai Helwig, Eliseo Pignanelli, Andreas Schütze, \"Condition Monitoring of a Complex Hydraulic System Using Multivariate Statistics™, in Proc. I2MTC-2015 - 2015 IEEE International Instrumentation and Measurement Technology Conference, paper PPS1-39, Pisa, Italy, May 11-14, 2015, doi: 10.1109/I2MTC.2015.7151267.\n",
    "2. N. Helwig, A. Schütze, \"Detecting and compensating sensor faults in a hydraulic condition monitoring system\", in Proc. SENSOR 2015 - 17th International Conference on Sensors and Measurement Technology, oral presentation D8.1, Nuremberg, Germany, May 19-21, 2015, doi: 10.5162/sensor2015/D8.1.\n",
    "3. Tizian Schneider, Nikolai Helwig, Andreas Schütze, \"Automatic feature extraction and selection for classification of cyclical time series data\", tm - Technisches Messen (2017), 84(3), 198 206, doi: 10.1515/teme-2016-0072.\n",
    "\n",
    "\n",
    "\n",
    "Data Source:\n",
    "\n",
    "Nikolai Helwig, Eliseo Pignanelli, Andreas Schütze, \"Condition Monitoring of a Complex Hydraulic System Using Multivariate Statistics\", in Proc. I2MTC-2015 - 2015 IEEE International Instrumentation and Measurement Technology Conference, paper PPS1-39, Pisa, Italy, May 11-14, 2015, doi: 10.1109/I2MTC.2015.7151267."
   ]
  },
  {
   "cell_type": "code",
   "execution_count": null,
   "metadata": {},
   "outputs": [],
   "source": []
  }
 ],
 "metadata": {
  "kernelspec": {
   "display_name": "Python 3",
   "language": "python",
   "name": "python3"
  },
  "language_info": {
   "codemirror_mode": {
    "name": "ipython",
    "version": 3
   },
   "file_extension": ".py",
   "mimetype": "text/x-python",
   "name": "python",
   "nbconvert_exporter": "python",
   "pygments_lexer": "ipython3",
   "version": "3.7.3"
  }
 },
 "nbformat": 4,
 "nbformat_minor": 2
}
